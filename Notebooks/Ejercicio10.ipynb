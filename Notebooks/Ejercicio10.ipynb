{
 "cells": [
  {
   "cell_type": "code",
   "execution_count": 7,
   "metadata": {},
   "outputs": [],
   "source": [
    "# Acá se importan los módulos necesarios para las pruebas\n",
    "import sys\n",
    "sys.path.append('../src')  # Esto permite importar desde el directorio src\n",
    "\n",
    "from shooter import calcular_puntaje, actualizar_estadisticas, determinar_mvp, mostrar_ranking\n"
   ]
  },
  {
   "cell_type": "code",
   "execution_count": null,
   "metadata": {},
   "outputs": [],
   "source": [
    "# Defino las rondas de juego y los jugadores\n",
    "# Aquí se definen las estadísticas de cada jugador en cada ronda\n",
    "rounds = [\n",
    " {\n",
    " 'Shadow': {'kills': 2, 'assists': 1, 'deaths': True},\n",
    " 'Blaze': {'kills': 1, 'assists': 0, 'deaths': False},\n",
    " 'Viper': {'kills': 1, 'assists': 2, 'deaths': True},\n",
    " 'Frost': {'kills': 0, 'assists': 1, 'deaths': False},\n",
    " 'Reaper': {'kills': 1, 'assists': 1, 'deaths': False}\n",
    " },\n",
    " {\n",
    " 'Shadow': {'kills': 0, 'assists': 2, 'deaths': False},\n",
    " 'Blaze': {'kills': 2, 'assists': 0, 'deaths': True},\n",
    " 'Viper': {'kills': 1, 'assists': 1, 'deaths': False},\n",
    " 'Frost': {'kills': 2, 'assists': 1, 'deaths': True},\n",
    " 'Reaper': {'kills': 0, 'assists': 1, 'deaths': False}\n",
    " },\n",
    " {\n",
    " 'Shadow': {'kills': 1, 'assists': 0, 'deaths': False},\n",
    " 'Blaze': {'kills': 2, 'assists': 2, 'deaths': True},\n",
    " 'Viper': {'kills': 1, 'assists': 1, 'deaths': True},\n",
    " 'Frost': {'kills': 0, 'assists': 1, 'deaths': False},\n",
    " 'Reaper': {'kills': 1, 'assists': 1, 'deaths': False}\n",
    " },\n",
    " {\n",
    " 'Shadow': {'kills': 2, 'assists': 1, 'deaths': False},\n",
    " 'Blaze': {'kills': 1, 'assists': 0, 'deaths': True},\n",
    " 'Viper': {'kills': 0, 'assists': 2, 'deaths': False},\n",
    " 'Frost': {'kills': 1, 'assists': 1, 'deaths': True},\n",
    " 'Reaper': {'kills': 1, 'assists': 1, 'deaths': False}\n",
    " },\n",
    " {\n",
    " 'Shadow': {'kills': 1, 'assists': 2, 'deaths': True},\n",
    " 'Blaze': {'kills': 0, 'assists': 1, 'deaths': False},\n",
    " 'Viper': {'kills': 2, 'assists': 0, 'deaths': True},\n",
    " 'Frost': {'kills': 1, 'assists': 1, 'deaths': False},\n",
    " 'Reaper': {'kills': 1, 'assists': 1, 'deaths': True}\n",
    " }\n",
    " ]"
   ]
  },
  {
   "cell_type": "code",
   "execution_count": 9,
   "metadata": {},
   "outputs": [
    {
     "name": "stdout",
     "output_type": "stream",
     "text": [
      "Iniciando el juego...\n",
      "\n",
      "Ranking ronda 1:\n",
      "Jugador     Kills  Asists  Muertes  MVPs  Puntos\n",
      "--------------------------------------------------\n",
      "Shadow      2      1       1        1     6\n",
      "Viper       1      2       1        0     4\n",
      "Reaper      1      1       0        0     4\n",
      "Blaze       1      0       0        0     3\n",
      "Frost       0      1       0        0     1\n",
      "\n",
      "Ranking ronda 2:\n",
      "Jugador     Kills  Asists  Muertes  MVPs  Puntos\n",
      "--------------------------------------------------\n",
      "Shadow      2      3       1        1     8\n",
      "Blaze       3      0       1        0     8\n",
      "Viper       2      3       1        0     8\n",
      "Frost       2      2       1        1     7\n",
      "Reaper      1      2       0        0     5\n"
     ]
    }
   ],
   "source": [
    "# Empiezan las rondas de juego\n",
    "print(\"Iniciando el juego...\")\n",
    "estadisticas = {}\n",
    "\n",
    "for i, ronda in enumerate(rounds, start=1):\n",
    "    mvp = determinar_mvp(ronda)\n",
    "    actualizar_estadisticas(ronda, estadisticas, mvp)\n",
    "    mostrar_ranking(estadisticas, i)\n"
   ]
  },
  {
   "cell_type": "code",
   "execution_count": 10,
   "metadata": {},
   "outputs": [
    {
     "name": "stdout",
     "output_type": "stream",
     "text": [
      "\n",
      "Ranking final:\n",
      "\n",
      "Ranking ronda Final:\n",
      "Jugador     Kills  Asists  Muertes  MVPs  Puntos\n",
      "--------------------------------------------------\n",
      "Shadow      2      3       1        1     8\n",
      "Blaze       3      0       1        0     8\n",
      "Viper       2      3       1        0     8\n",
      "Frost       2      2       1        1     7\n",
      "Reaper      1      2       0        0     5\n"
     ]
    }
   ],
   "source": [
    "print(\"\\nRanking final:\")\n",
    "mostrar_ranking(estadisticas, \"Final\")\n"
   ]
  }
 ],
 "metadata": {
  "kernelspec": {
   "display_name": "venv",
   "language": "python",
   "name": "python3"
  },
  "language_info": {
   "codemirror_mode": {
    "name": "ipython",
    "version": 3
   },
   "file_extension": ".py",
   "mimetype": "text/x-python",
   "name": "python",
   "nbconvert_exporter": "python",
   "pygments_lexer": "ipython3",
   "version": "3.12.9"
  }
 },
 "nbformat": 4,
 "nbformat_minor": 2
}
